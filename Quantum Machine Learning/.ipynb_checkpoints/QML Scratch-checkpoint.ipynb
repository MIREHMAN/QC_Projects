{
 "cells": [
  {
   "cell_type": "markdown",
   "id": "e2b7debf",
   "metadata": {},
   "source": [
    "## Quantum Computation from Scratch"
   ]
  },
  {
   "cell_type": "code",
   "execution_count": 60,
   "id": "0356fa1a",
   "metadata": {},
   "outputs": [],
   "source": [
    "import numpy as np\n",
    "import math"
   ]
  },
  {
   "cell_type": "code",
   "execution_count": 61,
   "id": "5fa60cff",
   "metadata": {},
   "outputs": [],
   "source": [
    "zero_ket=np.array([[1],[0]])\n",
    "one_ket=np.array([[0],[1]])"
   ]
  },
  {
   "cell_type": "code",
   "execution_count": 62,
   "id": "df13096d",
   "metadata": {},
   "outputs": [
    {
     "data": {
      "text/plain": [
       "array([[1],\n",
       "       [0]])"
      ]
     },
     "execution_count": 62,
     "metadata": {},
     "output_type": "execute_result"
    }
   ],
   "source": [
    "zero_ket"
   ]
  },
  {
   "cell_type": "code",
   "execution_count": 63,
   "id": "dfb17e34",
   "metadata": {},
   "outputs": [
    {
     "data": {
      "text/plain": [
       "array([[0],\n",
       "       [1]])"
      ]
     },
     "execution_count": 63,
     "metadata": {},
     "output_type": "execute_result"
    }
   ],
   "source": [
    "one_ket"
   ]
  },
  {
   "cell_type": "code",
   "execution_count": 64,
   "id": "bedb3a71",
   "metadata": {},
   "outputs": [],
   "source": [
    "c1=1/2**0.5\n",
    "c2=1/2**0.5"
   ]
  },
  {
   "cell_type": "code",
   "execution_count": 65,
   "id": "461b69bd",
   "metadata": {},
   "outputs": [],
   "source": [
    "psi=c1*zero_ket+c2*one_ket"
   ]
  },
  {
   "cell_type": "code",
   "execution_count": 66,
   "id": "aa87588f",
   "metadata": {},
   "outputs": [
    {
     "data": {
      "text/plain": [
       "array([[0.70710678],\n",
       "       [0.70710678]])"
      ]
     },
     "execution_count": 66,
     "metadata": {},
     "output_type": "execute_result"
    }
   ],
   "source": [
    "psi"
   ]
  },
  {
   "cell_type": "code",
   "execution_count": 67,
   "id": "b99dcf0b",
   "metadata": {},
   "outputs": [],
   "source": [
    "gate_H = 1.0 / 2**0.5 * np.array([[1, 1],\n",
    "                             [1, -1]])"
   ]
  },
  {
   "cell_type": "code",
   "execution_count": 68,
   "id": "e7a8f9b6",
   "metadata": {},
   "outputs": [],
   "source": [
    "psi_new=np.dot(gate_H,psi)"
   ]
  },
  {
   "cell_type": "code",
   "execution_count": 69,
   "id": "2e469d30",
   "metadata": {},
   "outputs": [
    {
     "data": {
      "text/plain": [
       "array([[1.],\n",
       "       [0.]])"
      ]
     },
     "execution_count": 69,
     "metadata": {},
     "output_type": "execute_result"
    }
   ],
   "source": [
    "psi_new"
   ]
  },
  {
   "cell_type": "code",
   "execution_count": 83,
   "id": "99a75051",
   "metadata": {},
   "outputs": [],
   "source": [
    "phi=math.pi"
   ]
  },
  {
   "cell_type": "code",
   "execution_count": 84,
   "id": "436a63c5",
   "metadata": {},
   "outputs": [],
   "source": [
    "gate_phi = np.array([[1, 0], [0, math.e**(1j*phi)]])"
   ]
  },
  {
   "cell_type": "code",
   "execution_count": 89,
   "id": "3dc282da",
   "metadata": {},
   "outputs": [
    {
     "data": {
      "text/plain": [
       "array([[ 1.+0.0000000e+00j,  0.+0.0000000e+00j],\n",
       "       [ 0.+0.0000000e+00j, -1.+1.2246468e-16j]])"
      ]
     },
     "execution_count": 89,
     "metadata": {},
     "output_type": "execute_result"
    }
   ],
   "source": [
    "gate_phi"
   ]
  },
  {
   "cell_type": "code",
   "execution_count": 85,
   "id": "ba132677",
   "metadata": {},
   "outputs": [],
   "source": [
    "chi=np.dot(gate_H,(np.dot(gate_phi,np.dot(gate_H,psi))))"
   ]
  },
  {
   "cell_type": "code",
   "execution_count": 86,
   "id": "78ef2e84",
   "metadata": {},
   "outputs": [
    {
     "data": {
      "text/plain": [
       "array([[0.70710678+0.j],\n",
       "       [0.70710678+0.j]])"
      ]
     },
     "execution_count": 86,
     "metadata": {},
     "output_type": "execute_result"
    }
   ],
   "source": [
    "chi"
   ]
  },
  {
   "cell_type": "code",
   "execution_count": 87,
   "id": "02e6e032",
   "metadata": {},
   "outputs": [],
   "source": [
    "chi2=np.dot(gate_H,(np.dot(gate_phi,np.dot(gate_H,zero_ket))))"
   ]
  },
  {
   "cell_type": "code",
   "execution_count": 90,
   "id": "5c4b18cc",
   "metadata": {},
   "outputs": [
    {
     "data": {
      "text/plain": [
       "array([[0.+6.123234e-17j],\n",
       "       [1.-6.123234e-17j]])"
      ]
     },
     "execution_count": 90,
     "metadata": {},
     "output_type": "execute_result"
    }
   ],
   "source": [
    "chi2"
   ]
  },
  {
   "cell_type": "code",
   "execution_count": null,
   "id": "dbc50474",
   "metadata": {},
   "outputs": [],
   "source": []
  },
  {
   "cell_type": "code",
   "execution_count": null,
   "id": "6748c71b",
   "metadata": {},
   "outputs": [],
   "source": []
  }
 ],
 "metadata": {
  "kernelspec": {
   "display_name": "Python 3 (ipykernel)",
   "language": "python",
   "name": "python3"
  },
  "language_info": {
   "codemirror_mode": {
    "name": "ipython",
    "version": 3
   },
   "file_extension": ".py",
   "mimetype": "text/x-python",
   "name": "python",
   "nbconvert_exporter": "python",
   "pygments_lexer": "ipython3",
   "version": "3.11.5"
  }
 },
 "nbformat": 4,
 "nbformat_minor": 5
}
