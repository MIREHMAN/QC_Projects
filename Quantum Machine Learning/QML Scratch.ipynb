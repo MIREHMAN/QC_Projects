{
 "cells": [
  {
   "cell_type": "markdown",
   "id": "e2b7debf",
   "metadata": {},
   "source": [
    "## Quantum Computation from Scratch"
   ]
  },
  {
   "cell_type": "code",
   "execution_count": 2,
   "id": "0356fa1a",
   "metadata": {},
   "outputs": [],
   "source": [
    "import numpy as np\n",
    "import math"
   ]
  },
  {
   "cell_type": "code",
   "execution_count": 3,
   "id": "5fa60cff",
   "metadata": {},
   "outputs": [],
   "source": [
    "zero_ket=np.array([[1],[0]])\n",
    "one_ket=np.array([[0],[1]])"
   ]
  },
  {
   "cell_type": "code",
   "execution_count": 4,
   "id": "df13096d",
   "metadata": {},
   "outputs": [
    {
     "data": {
      "text/plain": [
       "array([[1],\n",
       "       [0]])"
      ]
     },
     "execution_count": 4,
     "metadata": {},
     "output_type": "execute_result"
    }
   ],
   "source": [
    "zero_ket"
   ]
  },
  {
   "cell_type": "code",
   "execution_count": 5,
   "id": "dfb17e34",
   "metadata": {},
   "outputs": [
    {
     "data": {
      "text/plain": [
       "array([[0],\n",
       "       [1]])"
      ]
     },
     "execution_count": 5,
     "metadata": {},
     "output_type": "execute_result"
    }
   ],
   "source": [
    "one_ket"
   ]
  },
  {
   "cell_type": "code",
   "execution_count": 6,
   "id": "bedb3a71",
   "metadata": {},
   "outputs": [],
   "source": [
    "c1=1/2**0.5\n",
    "c2=1/2**0.5"
   ]
  },
  {
   "cell_type": "code",
   "execution_count": 7,
   "id": "461b69bd",
   "metadata": {},
   "outputs": [],
   "source": [
    "psi=c1*zero_ket+c2*one_ket"
   ]
  },
  {
   "cell_type": "code",
   "execution_count": 8,
   "id": "aa87588f",
   "metadata": {},
   "outputs": [
    {
     "data": {
      "text/plain": [
       "array([[0.70710678],\n",
       "       [0.70710678]])"
      ]
     },
     "execution_count": 8,
     "metadata": {},
     "output_type": "execute_result"
    }
   ],
   "source": [
    "psi"
   ]
  },
  {
   "cell_type": "code",
   "execution_count": 9,
   "id": "b99dcf0b",
   "metadata": {},
   "outputs": [],
   "source": [
    "gate_H = 1.0 / 2**0.5 * np.array([[1, 1],\n",
    "                             [1, -1]])"
   ]
  },
  {
   "cell_type": "code",
   "execution_count": 10,
   "id": "e7a8f9b6",
   "metadata": {},
   "outputs": [],
   "source": [
    "psi_new=np.dot(gate_H,psi)"
   ]
  },
  {
   "cell_type": "code",
   "execution_count": 11,
   "id": "2e469d30",
   "metadata": {},
   "outputs": [
    {
     "data": {
      "text/plain": [
       "array([[1.],\n",
       "       [0.]])"
      ]
     },
     "execution_count": 11,
     "metadata": {},
     "output_type": "execute_result"
    }
   ],
   "source": [
    "psi_new"
   ]
  },
  {
   "cell_type": "code",
   "execution_count": 12,
   "id": "56bf0c62",
   "metadata": {},
   "outputs": [],
   "source": [
    "phi=math.pi"
   ]
  },
  {
   "cell_type": "code",
   "execution_count": 13,
   "id": "436a63c5",
   "metadata": {},
   "outputs": [],
   "source": [
    "gate_phi = np.array([[1, 0], [0, math.e**(1j*phi)]])"
   ]
  },
  {
   "cell_type": "code",
   "execution_count": 14,
   "id": "8c703682",
   "metadata": {},
   "outputs": [
    {
     "data": {
      "text/plain": [
       "array([[ 1.+0.0000000e+00j,  0.+0.0000000e+00j],\n",
       "       [ 0.+0.0000000e+00j, -1.+1.2246468e-16j]])"
      ]
     },
     "execution_count": 14,
     "metadata": {},
     "output_type": "execute_result"
    }
   ],
   "source": [
    "gate_phi"
   ]
  },
  {
   "cell_type": "code",
   "execution_count": 15,
   "id": "c42eaeaa",
   "metadata": {},
   "outputs": [],
   "source": [
    "chi=np.dot(gate_H,(np.dot(gate_phi,np.dot(gate_H,psi))))"
   ]
  },
  {
   "cell_type": "code",
   "execution_count": 16,
   "id": "a381cfee",
   "metadata": {},
   "outputs": [
    {
     "data": {
      "text/plain": [
       "array([[0.70710678+0.j],\n",
       "       [0.70710678+0.j]])"
      ]
     },
     "execution_count": 16,
     "metadata": {},
     "output_type": "execute_result"
    }
   ],
   "source": [
    "chi"
   ]
  },
  {
   "cell_type": "code",
   "execution_count": 17,
   "id": "4a879bec",
   "metadata": {},
   "outputs": [],
   "source": [
    "chi2=np.dot(gate_H,(np.dot(gate_phi,np.dot(gate_H,psi))))"
   ]
  },
  {
   "cell_type": "code",
   "execution_count": 18,
   "id": "3c52d05f",
   "metadata": {},
   "outputs": [
    {
     "data": {
      "text/plain": [
       "array([[0.70710678+0.j],\n",
       "       [0.70710678+0.j]])"
      ]
     },
     "execution_count": 18,
     "metadata": {},
     "output_type": "execute_result"
    }
   ],
   "source": [
    "chi2"
   ]
  },
  {
   "cell_type": "markdown",
   "id": "fa7f2ab5",
   "metadata": {},
   "source": [
    "## Quantum Not Gate"
   ]
  },
  {
   "cell_type": "code",
   "execution_count": 19,
   "id": "caa5dae8",
   "metadata": {},
   "outputs": [],
   "source": [
    "gate_X=np.dot(gate_H,(np.dot(gate_phi,np.dot(gate_H,zero_ket))))"
   ]
  },
  {
   "cell_type": "code",
   "execution_count": 20,
   "id": "a9705337",
   "metadata": {},
   "outputs": [],
   "source": [
    "gate_X_matrix=np.array([[0,1],[1,0]])"
   ]
  },
  {
   "cell_type": "code",
   "execution_count": 21,
   "id": "fe8065b5",
   "metadata": {},
   "outputs": [
    {
     "data": {
      "text/plain": [
       "array([[0, 1],\n",
       "       [1, 0]])"
      ]
     },
     "execution_count": 21,
     "metadata": {},
     "output_type": "execute_result"
    }
   ],
   "source": [
    "gate_X_matrix"
   ]
  },
  {
   "cell_type": "code",
   "execution_count": 22,
   "id": "96147374",
   "metadata": {},
   "outputs": [],
   "source": [
    "out=np.dot(gate_X_matrix,np.array([[1],[0]]))"
   ]
  },
  {
   "cell_type": "code",
   "execution_count": 23,
   "id": "bf101623",
   "metadata": {},
   "outputs": [
    {
     "data": {
      "text/plain": [
       "array([[0],\n",
       "       [1]])"
      ]
     },
     "execution_count": 23,
     "metadata": {},
     "output_type": "execute_result"
    }
   ],
   "source": [
    "out"
   ]
  },
  {
   "cell_type": "code",
   "execution_count": 24,
   "id": "0a8ea8d9",
   "metadata": {},
   "outputs": [
    {
     "data": {
      "text/plain": [
       "array([[0.70710678],\n",
       "       [0.70710678]])"
      ]
     },
     "execution_count": 24,
     "metadata": {},
     "output_type": "execute_result"
    }
   ],
   "source": [
    "psi"
   ]
  },
  {
   "cell_type": "code",
   "execution_count": 25,
   "id": "73163100",
   "metadata": {},
   "outputs": [],
   "source": [
    "psi_not=np.dot(gate_X_matrix,psi)"
   ]
  },
  {
   "cell_type": "code",
   "execution_count": 26,
   "id": "c2764e51",
   "metadata": {},
   "outputs": [
    {
     "data": {
      "text/plain": [
       "array([[0.70710678],\n",
       "       [0.70710678]])"
      ]
     },
     "execution_count": 26,
     "metadata": {},
     "output_type": "execute_result"
    }
   ],
   "source": [
    "psi_not"
   ]
  },
  {
   "cell_type": "markdown",
   "id": "d82696b0",
   "metadata": {},
   "source": [
    "## 2 Qubit Quantum System"
   ]
  },
  {
   "cell_type": "code",
   "execution_count": 27,
   "id": "eeb49f70",
   "metadata": {},
   "outputs": [],
   "source": [
    "zero_ket=np.array([[1],[0]])\n",
    "one_ket=np.array([[0],[1]])"
   ]
  },
  {
   "cell_type": "code",
   "execution_count": 28,
   "id": "03040e5e",
   "metadata": {},
   "outputs": [],
   "source": [
    "zero_zero=np.kron(zero_ket,zero_ket)"
   ]
  },
  {
   "cell_type": "code",
   "execution_count": 29,
   "id": "ef615426",
   "metadata": {},
   "outputs": [
    {
     "data": {
      "text/plain": [
       "array([[1],\n",
       "       [0],\n",
       "       [0],\n",
       "       [0]])"
      ]
     },
     "execution_count": 29,
     "metadata": {},
     "output_type": "execute_result"
    }
   ],
   "source": [
    "zero_zero"
   ]
  },
  {
   "cell_type": "code",
   "execution_count": 30,
   "id": "1e875922",
   "metadata": {},
   "outputs": [],
   "source": [
    "zero_one=np.kron(zero_ket,one_ket)"
   ]
  },
  {
   "cell_type": "code",
   "execution_count": 31,
   "id": "19b6c9d7",
   "metadata": {},
   "outputs": [],
   "source": [
    "one_zero=np.kron(one_ket,zero_ket)"
   ]
  },
  {
   "cell_type": "code",
   "execution_count": 32,
   "id": "2eefdc25",
   "metadata": {},
   "outputs": [],
   "source": [
    "one_one=np.kron(one_ket,one_ket)"
   ]
  },
  {
   "cell_type": "code",
   "execution_count": 33,
   "id": "147ac398",
   "metadata": {},
   "outputs": [
    {
     "data": {
      "text/plain": [
       "array([[0],\n",
       "       [0],\n",
       "       [0],\n",
       "       [1]])"
      ]
     },
     "execution_count": 33,
     "metadata": {},
     "output_type": "execute_result"
    }
   ],
   "source": [
    "one_one"
   ]
  },
  {
   "cell_type": "code",
   "execution_count": 39,
   "id": "afaf9fd3",
   "metadata": {},
   "outputs": [],
   "source": [
    "c00 = c01 = c10 = c11 = 1/4"
   ]
  },
  {
   "cell_type": "code",
   "execution_count": 40,
   "id": "a3762af1",
   "metadata": {},
   "outputs": [],
   "source": [
    "psi=c00*zero_zero+c01*zero_one+c10*one_zero+c11*one_one"
   ]
  },
  {
   "cell_type": "code",
   "execution_count": 41,
   "id": "ed5640d1",
   "metadata": {},
   "outputs": [
    {
     "data": {
      "text/plain": [
       "array([[0.25],\n",
       "       [0.25],\n",
       "       [0.25],\n",
       "       [0.25]])"
      ]
     },
     "execution_count": 41,
     "metadata": {},
     "output_type": "execute_result"
    }
   ],
   "source": [
    "psi"
   ]
  },
  {
   "cell_type": "code",
   "execution_count": null,
   "id": "44967342",
   "metadata": {},
   "outputs": [],
   "source": []
  }
 ],
 "metadata": {
  "kernelspec": {
   "display_name": "Python 3 (ipykernel)",
   "language": "python",
   "name": "python3"
  },
  "language_info": {
   "codemirror_mode": {
    "name": "ipython",
    "version": 3
   },
   "file_extension": ".py",
   "mimetype": "text/x-python",
   "name": "python",
   "nbconvert_exporter": "python",
   "pygments_lexer": "ipython3",
   "version": "3.11.5"
  }
 },
 "nbformat": 4,
 "nbformat_minor": 5
}
