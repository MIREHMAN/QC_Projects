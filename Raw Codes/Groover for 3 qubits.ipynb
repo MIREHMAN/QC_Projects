{
 "cells": [
  {
   "cell_type": "code",
   "execution_count": 2,
   "id": "7b8bf6d8",
   "metadata": {},
   "outputs": [],
   "source": [
    "from qiskit import *\n",
    "import matplotlib.pyplot as plt\n",
    "import numpy as np"
   ]
  },
  {
   "cell_type": "code",
   "execution_count": 3,
   "id": "176ac7a3",
   "metadata": {},
   "outputs": [
    {
     "data": {
      "text/html": [
       "<pre style=\"word-wrap: normal;white-space: pre;background: #fff0;line-height: 1.1;font-family: &quot;Courier New&quot;,Courier,monospace\">        \n",
       "q_0: ───\n",
       "        \n",
       "q_1: ─■─\n",
       "      │ \n",
       "q_2: ─■─\n",
       "        </pre>"
      ],
      "text/plain": [
       "        \n",
       "q_0: ───\n",
       "        \n",
       "q_1: ─■─\n",
       "      │ \n",
       "q_2: ─■─\n",
       "        "
      ]
     },
     "execution_count": 3,
     "metadata": {},
     "output_type": "execute_result"
    }
   ],
   "source": [
    "oracle=QuantumCircuit(3,name='oracle')\n",
    "oracle.cz(1,2)\n",
    "oracle.to_gate()\n",
    "oracle.draw()"
   ]
  },
  {
   "cell_type": "code",
   "execution_count": 4,
   "id": "cd16cc8e",
   "metadata": {},
   "outputs": [
    {
     "data": {
      "text/html": [
       "<pre style=\"word-wrap: normal;white-space: pre;background: #fff0;line-height: 1.1;font-family: &quot;Courier New&quot;,Courier,monospace\">     ┌───┐┌─────────┐\n",
       "q_0: ┤ H ├┤0        ├\n",
       "     ├───┤│         │\n",
       "q_1: ┤ H ├┤1 oracle ├\n",
       "     ├───┤│         │\n",
       "q_2: ┤ H ├┤2        ├\n",
       "     └───┘└─────────┘\n",
       "c: 3/════════════════\n",
       "                     </pre>"
      ],
      "text/plain": [
       "     ┌───┐┌─────────┐\n",
       "q_0: ┤ H ├┤0        ├\n",
       "     ├───┤│         │\n",
       "q_1: ┤ H ├┤1 oracle ├\n",
       "     ├───┤│         │\n",
       "q_2: ┤ H ├┤2        ├\n",
       "     └───┘└─────────┘\n",
       "c: 3/════════════════\n",
       "                     "
      ]
     },
     "execution_count": 4,
     "metadata": {},
     "output_type": "execute_result"
    }
   ],
   "source": [
    "backend=Aer.get_backend('statevector_simulator')\n",
    "groover_cirq=QuantumCircuit(3,3)\n",
    "groover_cirq.h([0,1,2])\n",
    "groover_cirq.append(oracle,[0,1,2])\n",
    "groover_cirq.draw()"
   ]
  },
  {
   "cell_type": "code",
   "execution_count": 5,
   "id": "b46547a4",
   "metadata": {},
   "outputs": [],
   "source": [
    "jobs=execute(groover_cirq,backend)\n",
    "result=jobs.result()"
   ]
  },
  {
   "cell_type": "code",
   "execution_count": 6,
   "id": "ad0ccf6d",
   "metadata": {},
   "outputs": [
    {
     "data": {
      "text/plain": [
       "array([ 0.35+0.j,  0.35+0.j,  0.35+0.j,  0.35+0.j,  0.35+0.j,  0.35+0.j,\n",
       "       -0.35+0.j, -0.35+0.j])"
      ]
     },
     "execution_count": 6,
     "metadata": {},
     "output_type": "execute_result"
    }
   ],
   "source": [
    "sv=result.get_statevector()\n",
    "np.around(sv,2)"
   ]
  },
  {
   "cell_type": "code",
   "execution_count": 7,
   "id": "98745a31",
   "metadata": {},
   "outputs": [
    {
     "data": {
      "text/plain": [
       "Instruction(name='reflection', num_qubits=3, num_clbits=0, params=[])"
      ]
     },
     "execution_count": 7,
     "metadata": {},
     "output_type": "execute_result"
    }
   ],
   "source": [
    "reflection=QuantumCircuit(3,name='reflection')\n",
    "reflection.h([0,1,2])\n",
    "reflection.z([0,1,2])\n",
    "reflection.cz(0,1)\n",
    "reflection.cz(0,2)\n",
    "reflection.cz(1,2)\n",
    "reflection.h([0,1,2])\n",
    "reflection.to_gate()"
   ]
  },
  {
   "cell_type": "code",
   "execution_count": 8,
   "id": "8d45f7e4",
   "metadata": {},
   "outputs": [
    {
     "data": {
      "text/html": [
       "<pre style=\"word-wrap: normal;white-space: pre;background: #fff0;line-height: 1.1;font-family: &quot;Courier New&quot;,Courier,monospace\">     ┌───┐┌───┐      ┌───┐     \n",
       "q_0: ┤ H ├┤ Z ├─■──■─┤ H ├─────\n",
       "     ├───┤├───┤ │  │ └───┘┌───┐\n",
       "q_1: ┤ H ├┤ Z ├─■──┼───■──┤ H ├\n",
       "     ├───┤├───┤    │   │  ├───┤\n",
       "q_2: ┤ H ├┤ Z ├────■───■──┤ H ├\n",
       "     └───┘└───┘           └───┘</pre>"
      ],
      "text/plain": [
       "     ┌───┐┌───┐      ┌───┐     \n",
       "q_0: ┤ H ├┤ Z ├─■──■─┤ H ├─────\n",
       "     ├───┤├───┤ │  │ └───┘┌───┐\n",
       "q_1: ┤ H ├┤ Z ├─■──┼───■──┤ H ├\n",
       "     ├───┤├───┤    │   │  ├───┤\n",
       "q_2: ┤ H ├┤ Z ├────■───■──┤ H ├\n",
       "     └───┘└───┘           └───┘"
      ]
     },
     "execution_count": 8,
     "metadata": {},
     "output_type": "execute_result"
    }
   ],
   "source": [
    "reflection.draw()"
   ]
  },
  {
   "cell_type": "code",
   "execution_count": 9,
   "id": "0aac9355",
   "metadata": {},
   "outputs": [],
   "source": [
    "backend=Aer.get_backend('qasm_simulator')"
   ]
  },
  {
   "cell_type": "code",
   "execution_count": 10,
   "id": "e9a35ee1",
   "metadata": {},
   "outputs": [],
   "source": [
    "groover_circ=QuantumCircuit(3,3)"
   ]
  },
  {
   "cell_type": "code",
   "execution_count": 11,
   "id": "88066c7a",
   "metadata": {},
   "outputs": [
    {
     "data": {
      "text/plain": [
       "<qiskit.circuit.instructionset.InstructionSet at 0x1fdfcd4e200>"
      ]
     },
     "execution_count": 11,
     "metadata": {},
     "output_type": "execute_result"
    }
   ],
   "source": [
    "groover_circ.h([0,1,2])\n",
    "groover_circ.append(oracle,[0,1,2])\n",
    "groover_circ.append(reflection,[0,1,2])\n",
    "groover_circ.measure([0,1,2],[0,1,2])"
   ]
  },
  {
   "cell_type": "code",
   "execution_count": 12,
   "id": "14c97e29",
   "metadata": {},
   "outputs": [
    {
     "data": {
      "text/html": [
       "<pre style=\"word-wrap: normal;white-space: pre;background: #fff0;line-height: 1.1;font-family: &quot;Courier New&quot;,Courier,monospace\">     ┌───┐┌─────────┐┌─────────────┐┌─┐      \n",
       "q_0: ┤ H ├┤0        ├┤0            ├┤M├──────\n",
       "     ├───┤│         ││             │└╥┘┌─┐   \n",
       "q_1: ┤ H ├┤1 oracle ├┤1 reflection ├─╫─┤M├───\n",
       "     ├───┤│         ││             │ ║ └╥┘┌─┐\n",
       "q_2: ┤ H ├┤2        ├┤2            ├─╫──╫─┤M├\n",
       "     └───┘└─────────┘└─────────────┘ ║  ║ └╥┘\n",
       "c: 3/════════════════════════════════╩══╩══╩═\n",
       "                                     0  1  2 </pre>"
      ],
      "text/plain": [
       "     ┌───┐┌─────────┐┌─────────────┐┌─┐      \n",
       "q_0: ┤ H ├┤0        ├┤0            ├┤M├──────\n",
       "     ├───┤│         ││             │└╥┘┌─┐   \n",
       "q_1: ┤ H ├┤1 oracle ├┤1 reflection ├─╫─┤M├───\n",
       "     ├───┤│         ││             │ ║ └╥┘┌─┐\n",
       "q_2: ┤ H ├┤2        ├┤2            ├─╫──╫─┤M├\n",
       "     └───┘└─────────┘└─────────────┘ ║  ║ └╥┘\n",
       "c: 3/════════════════════════════════╩══╩══╩═\n",
       "                                     0  1  2 "
      ]
     },
     "execution_count": 12,
     "metadata": {},
     "output_type": "execute_result"
    }
   ],
   "source": [
    "groover_circ.draw()"
   ]
  },
  {
   "cell_type": "code",
   "execution_count": 17,
   "id": "53fea202",
   "metadata": {},
   "outputs": [],
   "source": [
    "job=execute(groover_circ,backend,shots=100)\n",
    "result=job.result()"
   ]
  },
  {
   "cell_type": "code",
   "execution_count": 18,
   "id": "f8135c08",
   "metadata": {},
   "outputs": [
    {
     "data": {
      "text/plain": [
       "{'111': 51, '110': 49}"
      ]
     },
     "execution_count": 18,
     "metadata": {},
     "output_type": "execute_result"
    }
   ],
   "source": [
    "result.get_counts()"
   ]
  },
  {
   "cell_type": "code",
   "execution_count": null,
   "id": "4e554fd5",
   "metadata": {},
   "outputs": [],
   "source": []
  },
  {
   "cell_type": "code",
   "execution_count": null,
   "id": "ec32d1a8",
   "metadata": {},
   "outputs": [],
   "source": []
  },
  {
   "cell_type": "code",
   "execution_count": 22,
   "id": "ee7f8493",
   "metadata": {},
   "outputs": [
    {
     "data": {
      "text/plain": [
       "{'110': 1}"
      ]
     },
     "execution_count": 22,
     "metadata": {},
     "output_type": "execute_result"
    }
   ],
   "source": [
    "from qiskit import *\n",
    "import matplotlib.pyplot as plt\n",
    "import numpy as np\n",
    "\n",
    "oracle=QuantumCircuit(3,name='oracle')\n",
    "oracle.cz(1,2)\n",
    "oracle.to_gate()\n",
    "oracle.draw()\n",
    "\n",
    "backend=Aer.get_backend('statevector_simulator')\n",
    "groover_cirq=QuantumCircuit(3,3)\n",
    "groover_cirq.h([0,1,2])\n",
    "groover_cirq.append(oracle,[0,1,2])\n",
    "groover_cirq.draw()\n",
    "\n",
    "jobs=execute(groover_cirq,backend)\n",
    "result=jobs.result()\n",
    "sv=result.get_statevector()\n",
    "np.around(sv,2)\n",
    "\n",
    "reflection=QuantumCircuit(3,name='reflection')\n",
    "reflection.h([0,1,2])\n",
    "reflection.z([0,1,2])\n",
    "reflection.cz(0,1)\n",
    "reflection.cz(0,2)\n",
    "reflection.cz(1,2)\n",
    "reflection.h([0,1,2])\n",
    "reflection.to_gate()\n",
    "\n",
    "backend=Aer.get_backend('qasm_simulator')\n",
    "groover_circ=QuantumCircuit(3,3)\n",
    "\n",
    "groover_circ.h([0,1,2])\n",
    "groover_circ.append(oracle,[0,1,2])\n",
    "groover_circ.append(reflection,[0,1,2])\n",
    "groover_circ.measure([0,1,2],[0,1,2])\n",
    "\n",
    "job=execute(groover_circ,backend,shots=1)\n",
    "result=job.result()\n",
    "result.get_counts()"
   ]
  },
  {
   "cell_type": "code",
   "execution_count": null,
   "id": "54512451",
   "metadata": {},
   "outputs": [],
   "source": []
  },
  {
   "cell_type": "code",
   "execution_count": null,
   "id": "89fee328",
   "metadata": {},
   "outputs": [],
   "source": []
  }
 ],
 "metadata": {
  "kernelspec": {
   "display_name": "Python 3 (ipykernel)",
   "language": "python",
   "name": "python3"
  },
  "language_info": {
   "codemirror_mode": {
    "name": "ipython",
    "version": 3
   },
   "file_extension": ".py",
   "mimetype": "text/x-python",
   "name": "python",
   "nbconvert_exporter": "python",
   "pygments_lexer": "ipython3",
   "version": "3.11.5"
  }
 },
 "nbformat": 4,
 "nbformat_minor": 5
}
