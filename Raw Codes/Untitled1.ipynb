{
 "cells": [
  {
   "cell_type": "code",
   "execution_count": 1,
   "id": "34adc6aa",
   "metadata": {},
   "outputs": [
    {
     "name": "stderr",
     "output_type": "stream",
     "text": [
      "C:\\Users\\Sakhawat Shah\\AppData\\Local\\Temp\\ipykernel_1704\\3435974091.py:40: DeprecationWarning: The package qiskit.providers.ibmq is being deprecated. Please see https://ibm.biz/provider_migration_guide to get instructions on how to migrate to qiskit-ibm-provider (https://github.com/Qiskit/qiskit-ibm-provider) and qiskit-ibm-runtime (https://github.com/Qiskit/qiskit-ibm-runtime).\n",
      "  provider = IBMQ.load_account()\n",
      "C:\\Users\\Sakhawat Shah\\AppData\\Local\\Temp\\ipykernel_1704\\3435974091.py:40: DeprecationWarning: The qiskit.IBMQ entrypoint and the qiskit-ibmq-provider package (accessible from 'qiskit.providers.ibmq`) are deprecated and will be removed in a future release. Instead you should use the qiskit-ibm-provider package which is accessible from 'qiskit_ibm_provider'. You can install it with 'pip install qiskit_ibm_provider'. Just replace 'qiskit.IBMQ' with 'qiskit_ibm_provider.IBMProvider'\n",
      "  provider = IBMQ.load_account()\n"
     ]
    },
    {
     "name": "stdout",
     "output_type": "stream",
     "text": [
      "{'00': 539, '10': 67, '01': 378, '11': 40}\n"
     ]
    }
   ],
   "source": [
    "from qiskit import QuantumRegister, ClassicalRegister, QuantumCircuit, execute, Aer, IBMQ\n",
    "\n",
    "c = ClassicalRegister(2)\n",
    "q = QuantumRegister(5)\n",
    "\n",
    "# Quantum registers\n",
    "a = QuantumRegister(1, 'a')  # First input bit\n",
    "b = QuantumRegister(1, 'b')  # Second input bit\n",
    "cin = QuantumRegister(1, 'cin')  # Carry input bit\n",
    "sum_out = QuantumRegister(1, 'sum_out')  # Sum output bit\n",
    "cout = QuantumRegister(1, 'cout')  # Carry output bit\n",
    "qc = QuantumCircuit(a, b, cin, sum_out, cout, c)\n",
    "\n",
    "qc.initialize([1, 0], 0)  # Initialize 'a' to |0>\n",
    "qc.initialize([0, 1], 1)  # Initialize 'b' to |0>\n",
    "qc.initialize([0, 1], 2)  # Initialize 'cin' to |0>\n",
    "\n",
    "# SUM Oracle\n",
    "SUM = QuantumCircuit(4, name=\"SUM\")\n",
    "SUM.cx(0, 3)\n",
    "SUM.cx(1, 3)\n",
    "SUM.cx(2, 3)\n",
    "SUM_instruction = SUM.to_instruction()\n",
    "qc.append(SUM_instruction, [a[0], b[0], cin[0], sum_out[0]])\n",
    "qc.barrier()\n",
    "\n",
    "# Carry Oracle\n",
    "CARRY = QuantumCircuit(5, name=\"CARRY\")\n",
    "CARRY.ccx(0, 1, 4)\n",
    "CARRY.ccx(1, 2, 4)\n",
    "CARRY.ccx(0, 2, 4)\n",
    "CARRY_instruction = CARRY.to_instruction()\n",
    "qc.append(CARRY_instruction, [a[0], b[0], cin[0], sum_out[0], cout[0]])\n",
    "\n",
    "# Measurement\n",
    "qc.measure(sum_out[0], c[1])\n",
    "qc.measure(cout[0], c[0])\n",
    "\n",
    "# Execution\n",
    "provider = IBMQ.load_account()\n",
    "backend = provider.get_backend('ibm_brisbane')\n",
    "\n",
    "job = execute(qc, backend, shots=1024)\n",
    "result = job.result()\n",
    "counts = result.get_counts(qc)\n",
    "print(counts)\n"
   ]
  },
  {
   "cell_type": "code",
   "execution_count": null,
   "id": "dd8a83de",
   "metadata": {},
   "outputs": [],
   "source": []
  }
 ],
 "metadata": {
  "kernelspec": {
   "display_name": "Python 3 (ipykernel)",
   "language": "python",
   "name": "python3"
  },
  "language_info": {
   "codemirror_mode": {
    "name": "ipython",
    "version": 3
   },
   "file_extension": ".py",
   "mimetype": "text/x-python",
   "name": "python",
   "nbconvert_exporter": "python",
   "pygments_lexer": "ipython3",
   "version": "3.11.5"
  }
 },
 "nbformat": 4,
 "nbformat_minor": 5
}
