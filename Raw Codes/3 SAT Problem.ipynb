{
 "cells": [
  {
   "cell_type": "code",
   "execution_count": 13,
   "id": "3404992c",
   "metadata": {},
   "outputs": [
    {
     "name": "stdout",
     "output_type": "stream",
     "text": [
      "{'000': 1000}\n"
     ]
    },
    {
     "name": "stderr",
     "output_type": "stream",
     "text": [
      "C:\\Users\\Sakhawat Shah\\AppData\\Local\\Temp\\ipykernel_10908\\109155077.py:55: DeprecationWarning: Using a qobj for run() is deprecated as of qiskit-aer 0.9.0 and will be removed no sooner than 3 months from that release date. Transpiled circuits should now be passed directly using `backend.run(circuits, **run_options).\n",
      "  result = simulator.run(qobj).result()\n"
     ]
    }
   ],
   "source": [
    "from qiskit import Aer, QuantumCircuit, transpile, assemble,IBMQ\n",
    "from qiskit.visualization import plot_histogram\n",
    "from qiskit.providers.ibmq import least_busy\n",
    "from qiskit.tools.monitor import job_monitor\n",
    "import numpy as np\n",
    "\n",
    "# Define the 3SAT instance\n",
    "input_3sat_instance = '''\n",
    "c example DIMACS-CNF 3-SAT\n",
    "p cnf 3 5\n",
    "-1 -2 -3 0\n",
    "1 -2 3 0\n",
    "1 2 -3 0\n",
    "1 -2 -3 0\n",
    "-1 -2 3 0\n",
    "'''\n",
    "\n",
    "# Function to convert 3SAT instance to quantum circuit\n",
    "def sat_to_circuit(instance):\n",
    "    clauses = instance.strip().split('\\n')[2:]\n",
    "    num_qubits = 3  # Number of qubits needed for this problem\n",
    "\n",
    "    # Create a quantum circuit with num_qubits qubits\n",
    "    qc = QuantumCircuit(num_qubits, num_qubits)\n",
    "\n",
    "    # Encode each clause into quantum gates\n",
    "    for clause in clauses:\n",
    "        literals = list(map(int, clause.split()[:-1]))\n",
    "        qubit_indices = [abs(literal) - 1 for literal in literals]\n",
    "        \n",
    "        # Apply the OR gate for each clause\n",
    "        qc.or_gate(qubit_indices)\n",
    "\n",
    "    # Measure the qubits\n",
    "    qc.measure(range(num_qubits), range(num_qubits))\n",
    "\n",
    "    return qc\n",
    "\n",
    "# Custom function to implement OR gate\n",
    "def or_gate(self, qubit_indices):\n",
    "    for index in qubit_indices[:-1]:\n",
    "        self.cx(index, qubit_indices[-1])  # Apply CX (CNOT) gate\n",
    "    return self\n",
    "\n",
    "# Add custom OR gate function to QuantumCircuit class\n",
    "QuantumCircuit.or_gate = or_gate\n",
    "\n",
    "# Convert 3SAT instance to quantum circuit\n",
    "qc = sat_to_circuit(input_3sat_instance)\n",
    "\n",
    "# Simulate the circuit\n",
    "simulator = Aer.get_backend('qasm_simulator')\n",
    "transpiled_qc = transpile(qc, simulator)\n",
    "qobj = assemble(transpiled_qc,shots=1000)\n",
    "result = simulator.run(qobj).result()\n",
    "counts = result.get_counts()\n",
    "\n",
    "# Display the result\n",
    "print(counts)\n"
   ]
  },
  {
   "cell_type": "code",
   "execution_count": 14,
   "id": "8da896b4",
   "metadata": {},
   "outputs": [
    {
     "name": "stderr",
     "output_type": "stream",
     "text": [
      "C:\\Users\\Sakhawat Shah\\AppData\\Local\\Temp\\ipykernel_10908\\1369724046.py:2: DeprecationWarning: The qiskit.IBMQ entrypoint and the qiskit-ibmq-provider package (accessible from 'qiskit.providers.ibmq`) are deprecated and will be removed in a future release. Instead you should use the qiskit-ibm-provider package which is accessible from 'qiskit_ibm_provider'. You can install it with 'pip install qiskit_ibm_provider'. Just replace 'qiskit.IBMQ' with 'qiskit_ibm_provider.IBMProvider'\n",
      "  provider = IBMQ.load_account()\n"
     ]
    },
    {
     "name": "stdout",
     "output_type": "stream",
     "text": [
      "Least busy backend: ibm_brisbane\n",
      "Job Status: job has successfully run\n",
      "{'011': 4, '000': 3355, '110': 153, '010': 152, '111': 7, '100': 232, '001': 41, '101': 56}\n"
     ]
    }
   ],
   "source": [
    "# Load IBM Quantum account\n",
    "provider = IBMQ.load_account()\n",
    "\n",
    "# Get the least busy backend\n",
    "backend = least_busy(provider.backends(filters=lambda x: x.configuration().n_qubits >= 3 and\n",
    "                                   not x.configuration().simulator and x.status().operational==True))\n",
    "\n",
    "print(\"Least busy backend:\", backend)\n",
    "\n",
    "# Convert 3SAT instance to quantum circuit\n",
    "qc = sat_to_circuit(input_3sat_instance)\n",
    "\n",
    "# Transpile the circuit for the backend\n",
    "transpiled_qc = transpile(qc, backend)\n",
    "\n",
    "# Submit job to the backend\n",
    "job = backend.run(transpiled_qc)\n",
    "\n",
    "# Monitor the job\n",
    "job_monitor(job)\n",
    "\n",
    "# Get the result\n",
    "result = job.result()\n",
    "counts = result.get_counts()\n",
    "\n",
    "# Display the result\n",
    "print(counts)"
   ]
  },
  {
   "cell_type": "code",
   "execution_count": null,
   "id": "f77114b2",
   "metadata": {},
   "outputs": [],
   "source": []
  }
 ],
 "metadata": {
  "kernelspec": {
   "display_name": "Python 3 (ipykernel)",
   "language": "python",
   "name": "python3"
  },
  "language_info": {
   "codemirror_mode": {
    "name": "ipython",
    "version": 3
   },
   "file_extension": ".py",
   "mimetype": "text/x-python",
   "name": "python",
   "nbconvert_exporter": "python",
   "pygments_lexer": "ipython3",
   "version": "3.11.5"
  }
 },
 "nbformat": 4,
 "nbformat_minor": 5
}
