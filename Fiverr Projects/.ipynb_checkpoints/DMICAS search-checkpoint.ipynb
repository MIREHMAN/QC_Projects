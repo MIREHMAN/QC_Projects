{
 "cells": [
  {
   "cell_type": "code",
   "execution_count": 4,
   "id": "678a3ea5",
   "metadata": {},
   "outputs": [],
   "source": [
    "from qiskit import QuantumCircuit\n",
    "import qiskit_aer\n",
    "from qiskit.circuit.library import PhaseOracle\n",
    "import numpy as np\n",
    "\n",
    "# Read the DIMACS CNF file\n",
    "def read_dimacs_cnf(file_path):\n",
    "    with open(r\"C:\\Users\\Sakhawat Shah\\Downloads\\3sat.dimacs\") as file:\n",
    "        lines = file.readlines()\n",
    "        cnf = []\n",
    "        for line in lines:\n",
    "            if line.startswith('c') or line.startswith('p'):\n",
    "                continue\n",
    "            clause = [int(x) for x in line.strip().split()[:-1]]\n",
    "            cnf.append(clause)\n",
    "    return cnf\n",
    "\n",
    "\n"
   ]
  },
  {
   "cell_type": "code",
   "execution_count": 5,
   "id": "ddd2cac1",
   "metadata": {},
   "outputs": [
    {
     "name": "stdout",
     "output_type": "stream",
     "text": [
      "Boolean Formula: (~x1 | ~x2 | ~x3) & (x1 | ~x2 | x3) & (x1 | x2 | ~x3) & (x1 | ~x2 | ~x3) & (~x1 | ~x2 | x3)\n",
      "Number of Variables: 3\n"
     ]
    }
   ],
   "source": [
    "# Import necessary libraries\n",
    "from qiskit import *\n",
    "\n",
    "def read_and_convert_cnf_file(file_path):\n",
    "    clauses = []\n",
    "    num_variables = 0\n",
    "\n",
    "    with open(file_path, 'r') as file:\n",
    "        for line in file:\n",
    "            if line.startswith('p'):\n",
    "                parts = line.split()\n",
    "                num_variables = int(parts[2])\n",
    "            elif not line.startswith(('c', '0')):\n",
    "                clause = [int(literal) for literal in line.split() if literal != '0']\n",
    "                clauses.append(clause)\n",
    "\n",
    "    # Convert clauses into Boolean formula\n",
    "    boolean_formula = \"\"\n",
    "    for clause in clauses:\n",
    "        boolean_formula += '('\n",
    "        for literal in clause:\n",
    "            if literal > 0:\n",
    "                boolean_formula += 'x{} | '.format(literal)\n",
    "            else:\n",
    "                boolean_formula += '~x{} | '.format(abs(literal))\n",
    "        boolean_formula = boolean_formula[:-3]  # Remove the last ' | '\n",
    "        boolean_formula += ') & '\n",
    "\n",
    "    # Remove the last ' & ' and add ' & ' between clauses\n",
    "    boolean_formula = boolean_formula[:-3]\n",
    "\n",
    "    return boolean_formula, num_variables\n",
    "\n",
    "# Example usage:\n",
    "file_path = r'C:\\Users\\Sakhawat Shah\\Downloads\\3sat.dimacs'\n",
    "boolean_formula, num_variables = read_and_convert_cnf_file(file_path)\n",
    "print(\"Boolean Formula:\", boolean_formula)\n",
    "print(\"Number of Variables:\", num_variables)\n",
    "\n"
   ]
  },
  {
   "cell_type": "code",
   "execution_count": 6,
   "id": "ba2c6d71",
   "metadata": {},
   "outputs": [],
   "source": [
    "# Define the Boolean formula and number of variables\n",
    "log_exp = \"(~x1 | ~x2 | ~x3) & (x1 | ~x2 | x3) & (x1 | x2 | ~x3) & (x1 | ~x2 | ~x3) & (~x1 | ~x2 | x3)\""
   ]
  },
  {
   "cell_type": "code",
   "execution_count": null,
   "id": "9d5803ef",
   "metadata": {},
   "outputs": [],
   "source": []
  },
  {
   "cell_type": "code",
   "execution_count": 9,
   "id": "2261df4d",
   "metadata": {},
   "outputs": [
    {
     "ename": "ModuleNotFoundError",
     "evalue": "No module named 'qiskit.aqua'",
     "output_type": "error",
     "traceback": [
      "\u001b[1;31m---------------------------------------------------------------------------\u001b[0m",
      "\u001b[1;31mModuleNotFoundError\u001b[0m                       Traceback (most recent call last)",
      "Cell \u001b[1;32mIn[9], line 2\u001b[0m\n\u001b[0;32m      1\u001b[0m \u001b[38;5;28;01mfrom\u001b[39;00m \u001b[38;5;21;01mqiskit_algorithms\u001b[39;00m \u001b[38;5;28;01mimport\u001b[39;00m Grover\n\u001b[1;32m----> 2\u001b[0m \u001b[38;5;28;01mimport\u001b[39;00m \u001b[38;5;21;01mqiskit\u001b[39;00m\u001b[38;5;21;01m.\u001b[39;00m\u001b[38;5;21;01maqua\u001b[39;00m\n\u001b[0;32m      3\u001b[0m num_qubits\u001b[38;5;241m=\u001b[39m\u001b[38;5;241m3\u001b[39m\n\u001b[0;32m      4\u001b[0m algorithm\u001b[38;5;241m=\u001b[39mGrover(LogicalExpressionOracle(log_exp))\n",
      "\u001b[1;31mModuleNotFoundError\u001b[0m: No module named 'qiskit.aqua'"
     ]
    }
   ],
   "source": [
    "from qiskit_algorithms import Grover\n",
    "import qiskit.aqua\n",
    "num_qubits=3\n",
    "algorithm=Grover(LogicalExpressionOracle(log_exp))"
   ]
  },
  {
   "cell_type": "code",
   "execution_count": null,
   "id": "1ef7f360",
   "metadata": {},
   "outputs": [],
   "source": []
  },
  {
   "cell_type": "code",
   "execution_count": null,
   "id": "fd32d1ef",
   "metadata": {},
   "outputs": [],
   "source": []
  },
  {
   "cell_type": "code",
   "execution_count": null,
   "id": "d47e5ec1",
   "metadata": {},
   "outputs": [],
   "source": []
  }
 ],
 "metadata": {
  "kernelspec": {
   "display_name": "Python 3 (ipykernel)",
   "language": "python",
   "name": "python3"
  },
  "language_info": {
   "codemirror_mode": {
    "name": "ipython",
    "version": 3
   },
   "file_extension": ".py",
   "mimetype": "text/x-python",
   "name": "python",
   "nbconvert_exporter": "python",
   "pygments_lexer": "ipython3",
   "version": "3.11.8"
  }
 },
 "nbformat": 4,
 "nbformat_minor": 5
}
