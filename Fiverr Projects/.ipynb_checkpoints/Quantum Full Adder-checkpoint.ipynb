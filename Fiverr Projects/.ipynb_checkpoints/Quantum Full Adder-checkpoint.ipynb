{
 "cells": [
  {
   "cell_type": "code",
   "execution_count": null,
   "id": "ef97a251",
   "metadata": {},
   "outputs": [],
   "source": [
    "from qiskit import QuantumCircuit, execute, Aer, IBMQ\n",
    "from qiskit.compiler import transpile, assemble\n",
    "from qiskit.tools.jupyter import *\n",
    "from qiskit.visualization import *\n",
    "from qiskit import QuantumRegister, ClassicalRegister"
   ]
  },
  {
   "cell_type": "code",
   "execution_count": null,
   "id": "0db620cf",
   "metadata": {},
   "outputs": [],
   "source": []
  },
  {
   "cell_type": "code",
   "execution_count": null,
   "id": "38e9207b",
   "metadata": {},
   "outputs": [],
   "source": [
    "from qiskit import QuantumRegister, ClassicalRegister"
   ]
  },
  {
   "cell_type": "code",
   "execution_count": null,
   "id": "38eb2935",
   "metadata": {},
   "outputs": [],
   "source": [
    "c=ClassicalRegister(2)"
   ]
  },
  {
   "cell_type": "code",
   "execution_count": null,
   "id": "6f4bd220",
   "metadata": {},
   "outputs": [],
   "source": [
    "q=QuantumRegister(4)"
   ]
  },
  {
   "cell_type": "code",
   "execution_count": null,
   "id": "e6b781dc",
   "metadata": {},
   "outputs": [],
   "source": [
    "qc=QuantumCircuit(q,c)"
   ]
  },
  {
   "cell_type": "code",
   "execution_count": null,
   "id": "640b854b",
   "metadata": {},
   "outputs": [],
   "source": [
    "qc.draw('mpl',style=\"iqp\")"
   ]
  },
  {
   "cell_type": "code",
   "execution_count": null,
   "id": "c8eed359",
   "metadata": {},
   "outputs": [],
   "source": [
    "qc.initialize([0, 1], 0)  # Initialize 'a' to |0>\n",
    "qc.initialize([0, 1], 1)  # Initialize 'b' to |0>"
   ]
  },
  {
   "cell_type": "code",
   "execution_count": null,
   "id": "1f758107",
   "metadata": {},
   "outputs": [],
   "source": [
    "SUM=QuantumCircuit(3,name=\"SUM\")"
   ]
  },
  {
   "cell_type": "code",
   "execution_count": null,
   "id": "9ecaa7da",
   "metadata": {},
   "outputs": [],
   "source": [
    "SUM.cx(0,2)\n",
    "SUM.cx(1,2)"
   ]
  },
  {
   "cell_type": "code",
   "execution_count": null,
   "id": "846799a3",
   "metadata": {},
   "outputs": [],
   "source": [
    "SUM.to_instruction()"
   ]
  },
  {
   "cell_type": "code",
   "execution_count": null,
   "id": "846d4bf1",
   "metadata": {},
   "outputs": [],
   "source": [
    "SUM.draw(\"mpl\",style=\"iqp\")"
   ]
  },
  {
   "cell_type": "code",
   "execution_count": null,
   "id": "7be8a047",
   "metadata": {},
   "outputs": [],
   "source": [
    "qc.append(SUM,[q[0],q[1],q[2]])"
   ]
  },
  {
   "cell_type": "code",
   "execution_count": null,
   "id": "2fe128d8",
   "metadata": {},
   "outputs": [],
   "source": [
    "qc.draw(\"mpl\",style=\"iqp\")"
   ]
  },
  {
   "cell_type": "code",
   "execution_count": null,
   "id": "d672b5ca",
   "metadata": {},
   "outputs": [],
   "source": [
    "qc.barrier()"
   ]
  },
  {
   "cell_type": "code",
   "execution_count": null,
   "id": "e3ac7fb4",
   "metadata": {},
   "outputs": [],
   "source": [
    "CARRY=QuantumCircuit(4,name=\"CARRY\")"
   ]
  },
  {
   "cell_type": "code",
   "execution_count": null,
   "id": "a2efcf36",
   "metadata": {},
   "outputs": [],
   "source": [
    "CARRY.ccx(0,1,3)"
   ]
  },
  {
   "cell_type": "code",
   "execution_count": null,
   "id": "947d9544",
   "metadata": {},
   "outputs": [],
   "source": [
    "CARRY.to_instruction()\n",
    "CARRY.draw(\"mpl\",style=\"iqp\")"
   ]
  },
  {
   "cell_type": "code",
   "execution_count": null,
   "id": "c5526783",
   "metadata": {},
   "outputs": [],
   "source": [
    "qc.append(CARRY,[q[0],q[1],q[2],q[3]])"
   ]
  },
  {
   "cell_type": "code",
   "execution_count": null,
   "id": "331d69c6",
   "metadata": {},
   "outputs": [],
   "source": []
  },
  {
   "cell_type": "code",
   "execution_count": null,
   "id": "1cd0d49f",
   "metadata": {},
   "outputs": [],
   "source": [
    "qc.draw(\"mpl\",style=\"iqp\")"
   ]
  },
  {
   "cell_type": "code",
   "execution_count": null,
   "id": "e0d95715",
   "metadata": {},
   "outputs": [],
   "source": [
    "qc.measure(q[2],c[0])\n",
    "qc.measure(q[3],c[1])"
   ]
  },
  {
   "cell_type": "code",
   "execution_count": null,
   "id": "6b9ac47a",
   "metadata": {},
   "outputs": [],
   "source": []
  },
  {
   "cell_type": "code",
   "execution_count": null,
   "id": "39e54a85",
   "metadata": {},
   "outputs": [],
   "source": [
    "simulator = Aer.get_backend('qasm_simulator')\n",
    "job = execute(qc, simulator, shots=1024)\n",
    "result = job.result()\n",
    "counts = result.get_counts(qc)\n",
    "print(counts)"
   ]
  },
  {
   "cell_type": "code",
   "execution_count": null,
   "id": "ddd3ee96",
   "metadata": {},
   "outputs": [],
   "source": [
    "from qiskit import QuantumRegister, ClassicalRegister\n",
    "from qiskit import QuantumCircuit, execute, Aer, IBMQ\n",
    "c=ClassicalRegister(2)\n",
    "q=QuantumRegister(4)\n",
    "qc=QuantumCircuit(q,c)\n",
    "qc.initialize([0, 1], 0)  # Initialize 'a' to |0>\n",
    "qc.initialize([0, 1], 1)  # Initialize 'b' to |0>\n",
    "\n",
    "#SUM Oracle\n",
    "SUM=QuantumCircuit(3,name=\"SUM\")\n",
    "SUM.cx(0,2)\n",
    "SUM.cx(1,2)\n",
    "SUM.to_instruction()\n",
    "qc.append(SUM,[q[0],q[1],q[2]])\n",
    "qc.barrier()\n",
    "\n",
    "#Carry Oracle\n",
    "CARRY=QuantumCircuit(4,name=\"CARRY\")\n",
    "CARRY.ccx(0,1,3)\n",
    "CARRY.to_instruction()\n",
    "qc.append(CARRY,[q[0],q[1],q[2],q[3]])\n",
    "\n",
    "#Measurement\n",
    "qc.measure(q[3],c[1])\n",
    "qc.measure(q[2],c[0])\n",
    "\n",
    "\n",
    "#Simulation\n",
    "simulator = Aer.get_backend('qasm_simulator')\n",
    "job = execute(qc, simulator, shots=1024)\n",
    "result = job.result()\n",
    "counts = result.get_counts(qc)\n",
    "print(counts)"
   ]
  },
  {
   "cell_type": "code",
   "execution_count": null,
   "id": "a652a70d",
   "metadata": {},
   "outputs": [],
   "source": []
  },
  {
   "cell_type": "markdown",
   "id": "b7c759de",
   "metadata": {},
   "source": [
    "# Full Adder"
   ]
  },
  {
   "cell_type": "code",
   "execution_count": 1,
   "id": "4c341315",
   "metadata": {},
   "outputs": [
    {
     "data": {
      "text/plain": [
       "<qiskit.circuit.instructionset.InstructionSet at 0x262b2e01180>"
      ]
     },
     "execution_count": 1,
     "metadata": {},
     "output_type": "execute_result"
    }
   ],
   "source": [
    "from qiskit import QuantumRegister, ClassicalRegister\n",
    "from qiskit import QuantumCircuit, execute, Aer, IBMQ\n",
    "c=ClassicalRegister(2)\n",
    "q=QuantumRegister(6)\n",
    "qc=QuantumCircuit(q,c)\n",
    "qc.initialize([0, 1], 0)  # Initialize 'a' to |0>\n",
    "qc.initialize([0, 1], 1)  # Initialize 'b' to |0>\n",
    "\n"
   ]
  },
  {
   "cell_type": "code",
   "execution_count": 2,
   "id": "9216298a",
   "metadata": {},
   "outputs": [
    {
     "data": {
      "image/png": "[encoded data removed]",
      "text/plain": [
       "<Figure size 472.747x618.722 with 1 Axes>"
      ]
     },
     "execution_count": 2,
     "metadata": {},
     "output_type": "execute_result"
    }
   ],
   "source": [
    "#SUM Oracle\n",
    "SUM=QuantumCircuit(3,name=\"SUM\")\n",
    "SUM.cx(0,2)\n",
    "SUM.cx(1,2)\n",
    "SUM.to_instruction()\n",
    "qc.append(SUM,[q[0],q[1],q[2]])\n",
    "qc.barrier()\n",
    "qc.append(SUM,[q[2],q[3],q[4]])\n",
    "qc.draw(\"mpl\",style=\"iqp\")"
   ]
  },
  {
   "cell_type": "code",
   "execution_count": null,
   "id": "10c9b374",
   "metadata": {},
   "outputs": [],
   "source": [
    "#Carry Oracle\n",
    "CARRY=QuantumCircuit(4,name=\"CARRY\")\n",
    "CARRY.ccx(0,1,3)\n",
    "CARRY.to_instruction()\n",
    "qc.append(CARRY,[q[0],q[1],q[2],q[3]])\n",
    "\n"
   ]
  },
  {
   "cell_type": "code",
   "execution_count": null,
   "id": "26ffe4bb",
   "metadata": {},
   "outputs": [],
   "source": [
    "#Measurement\n",
    "qc.measure(q[3],c[1])\n",
    "qc.measure(q[2],c[0])\n",
    "\n",
    "\n"
   ]
  },
  {
   "cell_type": "code",
   "execution_count": null,
   "id": "47a337a2",
   "metadata": {},
   "outputs": [],
   "source": [
    "#Simulation\n",
    "simulator = Aer.get_backend('qasm_simulator')\n",
    "job = execute(qc, simulator, shots=1024)\n",
    "result = job.result()\n",
    "counts = result.get_counts(qc)\n",
    "print(counts)"
   ]
  },
  {
   "cell_type": "code",
   "execution_count": null,
   "id": "fdfec4b3",
   "metadata": {},
   "outputs": [],
   "source": []
  },
  {
   "cell_type": "code",
   "execution_count": null,
   "id": "d40285f4",
   "metadata": {},
   "outputs": [],
   "source": []
  },
  {
   "cell_type": "code",
   "execution_count": null,
   "id": "fc4d5fe5",
   "metadata": {},
   "outputs": [],
   "source": []
  },
  {
   "cell_type": "code",
   "execution_count": null,
   "id": "eccb2081",
   "metadata": {},
   "outputs": [],
   "source": []
  },
  {
   "cell_type": "code",
   "execution_count": null,
   "id": "9fa8704b",
   "metadata": {},
   "outputs": [],
   "source": []
  },
  {
   "cell_type": "code",
   "execution_count": null,
   "id": "aa9f5b12",
   "metadata": {},
   "outputs": [],
   "source": []
  },
  {
   "cell_type": "code",
   "execution_count": null,
   "id": "d006fe4a",
   "metadata": {},
   "outputs": [],
   "source": []
  },
  {
   "cell_type": "code",
   "execution_count": null,
   "id": "e8b508d7",
   "metadata": {},
   "outputs": [],
   "source": []
  }
 ],
 "metadata": {
  "kernelspec": {
   "display_name": "Python 3 (ipykernel)",
   "language": "python",
   "name": "python3"
  },
  "language_info": {
   "codemirror_mode": {
    "name": "ipython",
    "version": 3
   },
   "file_extension": ".py",
   "mimetype": "text/x-python",
   "name": "python",
   "nbconvert_exporter": "python",
   "pygments_lexer": "ipython3",
   "version": "3.11.5"
  }
 },
 "nbformat": 4,
 "nbformat_minor": 5
}
