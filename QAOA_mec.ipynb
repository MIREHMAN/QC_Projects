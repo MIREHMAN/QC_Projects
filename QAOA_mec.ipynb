{
 "cells": [
  {
   "cell_type": "code",
   "execution_count": 12,
   "metadata": {},
   "outputs": [],
   "source": [
    "import numpy as np\n",
    "from qiskit import QuantumCircuit\n",
    "from qiskit_aer.primitives import SamplerV2\n",
    "from qiskit_algorithms.optimizers import COBYLA\n",
    "from qiskit_algorithms import QAOA\n"
   ]
  },
  {
   "cell_type": "code",
   "execution_count": null,
   "metadata": {},
   "outputs": [
    {
     "name": "stderr",
     "output_type": "stream",
     "text": [
      "c:\\malik inam\\QC Environment\\QC_Projects\\.venv\\Lib\\site-packages\\qiskit_aer\\primitives\\sampler_v2.py:135: UserWarning: The 0-th pub's circuit has no output classical registers and so the result will be empty. Did you mean to add measurement instructions?\n",
      "  warnings.warn(\n"
     ]
    },
    {
     "ename": "AttributeError",
     "evalue": "'DataBin' object has no attribute 'meas'",
     "output_type": "error",
     "traceback": [
      "\u001b[1;31m---------------------------------------------------------------------------\u001b[0m",
      "\u001b[1;31mAttributeError\u001b[0m                            Traceback (most recent call last)",
      "Cell \u001b[1;32mIn[9], line 55\u001b[0m\n\u001b[0;32m     52\u001b[0m server_state \u001b[38;5;241m=\u001b[39m np\u001b[38;5;241m.\u001b[39mrandom\u001b[38;5;241m.\u001b[39mrand(N, S)  \u001b[38;5;66;03m# Server states\u001b[39;00m\n\u001b[0;32m     53\u001b[0m server_capacity \u001b[38;5;241m=\u001b[39m np\u001b[38;5;241m.\u001b[39mrandom\u001b[38;5;241m.\u001b[39mrandint(\u001b[38;5;241m1\u001b[39m, \u001b[38;5;241m10\u001b[39m, (N, S))  \u001b[38;5;66;03m# Server capacities\u001b[39;00m\n\u001b[1;32m---> 55\u001b[0m allocation \u001b[38;5;241m=\u001b[39m \u001b[43mserver_allocation_qaoa\u001b[49m\u001b[43m(\u001b[49m\u001b[43mngb\u001b[49m\u001b[43m,\u001b[49m\u001b[43m \u001b[49m\u001b[43mservice\u001b[49m\u001b[43m,\u001b[49m\u001b[43m \u001b[49m\u001b[43mserver_state\u001b[49m\u001b[43m,\u001b[49m\u001b[43m \u001b[49m\u001b[43mN\u001b[49m\u001b[43m,\u001b[49m\u001b[43m \u001b[49m\u001b[43mS\u001b[49m\u001b[43m,\u001b[49m\u001b[43m \u001b[49m\u001b[43mU\u001b[49m\u001b[43m)\u001b[49m\n\u001b[0;32m     56\u001b[0m \u001b[38;5;28mprint\u001b[39m(\u001b[38;5;124m\"\u001b[39m\u001b[38;5;124mQAOA Allocation:\u001b[39m\u001b[38;5;124m\"\u001b[39m, allocation)\n",
      "Cell \u001b[1;32mIn[9], line 34\u001b[0m, in \u001b[0;36mserver_allocation_qaoa\u001b[1;34m(ngb, service, server_state, N, S, U, p)\u001b[0m\n\u001b[0;32m     32\u001b[0m \u001b[38;5;66;03m# Perform an ideal simulation\u001b[39;00m\n\u001b[0;32m     33\u001b[0m result_ideal \u001b[38;5;241m=\u001b[39m job\u001b[38;5;241m.\u001b[39mresult()\n\u001b[1;32m---> 34\u001b[0m count \u001b[38;5;241m=\u001b[39m \u001b[43mresult_ideal\u001b[49m\u001b[43m[\u001b[49m\u001b[38;5;241;43m0\u001b[39;49m\u001b[43m]\u001b[49m\u001b[38;5;241;43m.\u001b[39;49m\u001b[43mdata\u001b[49m\u001b[38;5;241;43m.\u001b[39;49m\u001b[43mmeas\u001b[49m\u001b[38;5;241m.\u001b[39mget_counts()\n\u001b[0;32m     36\u001b[0m \u001b[38;5;66;03m# Classical post-processing to extract allocation\u001b[39;00m\n\u001b[0;32m     37\u001b[0m allocation \u001b[38;5;241m=\u001b[39m []\n",
      "\u001b[1;31mAttributeError\u001b[0m: 'DataBin' object has no attribute 'meas'"
     ]
    }
   ],
   "source": [
    "def server_allocation_qaoa(ngb, service, server_state, N, S, U, p=2):\n",
    "    # Define QUBO matrix and offset\n",
    "    Q = np.zeros((U * N, U * N))\n",
    "    offset = 0\n",
    "    for i in range(U):\n",
    "        for j in range(N):\n",
    "            if ngb[i, j] == 1:  # User-server connection\n",
    "                Q[i * N + j, i * N + j] = -server_capacity[j, service[i]]\n",
    "                for k in range(j + 1, N):\n",
    "                    if ngb[i, k] == 1:\n",
    "                        Q[i * N + j, i * N + k] = 2  # Penalty for violating capacity\n",
    "\n",
    "    # Initialize QAOA circuit\n",
    "    num_qubits = U * N\n",
    "    qc = QuantumCircuit(num_qubits)\n",
    "\n",
    "    # Define QAOA parameters\n",
    "    params = np.random.rand(2 * p)\n",
    "\n",
    "    # QAOA layers\n",
    "    for i in range(p):\n",
    "        for j in range(num_qubits):\n",
    "            qc.rx(params[2 * i], j)\n",
    "        for j in range(num_qubits - 1):\n",
    "            qc.cx(j, j + 1)\n",
    "        for j in range(num_qubits):\n",
    "            qc.rz(params[2 * i + 1], j)\n",
    "\n",
    "    # Measure and post-process\n",
    "    sampler = SamplerV2()\n",
    "    job = sampler.run([qc], shots=128)\n",
    "    # Perform an ideal simulation\n",
    "    result_ideal = job.result()\n",
    "    count = result_ideal[0].data.meas.get_counts()\n",
    "\n",
    "    # Classical post-processing to extract allocation\n",
    "    allocation = []\n",
    "    for state, count in counts.items():\n",
    "        state_list = [int(bit) for bit in state]\n",
    "        for i in range(U):\n",
    "            for j in range(N):\n",
    "                if state_list[i * N + j] == 1:\n",
    "                    allocation.append((i, j))\n",
    "    return allocation\n",
    "\n",
    "# Example usage\n",
    "N = 5  # Number of servers\n",
    "S = 2   # Number of services\n",
    "U = 10  # Number of users\n",
    "ngb = np.random.randint(0, 2, (U, N))  # User-server connections\n",
    "service = np.random.randint(0, S, U)  # User service requests\n",
    "server_state = np.random.rand(N, S)  # Server states\n",
    "server_capacity = np.random.randint(1, 10, (N, S))  # Server capacities\n",
    "\n",
    "allocation = server_allocation_qaoa(ngb, service, server_state, N, S, U)\n",
    "print(\"QAOA Allocation:\", allocation)"
   ]
  },
  {
   "cell_type": "code",
   "execution_count": null,
   "metadata": {},
   "outputs": [],
   "source": []
  },
  {
   "cell_type": "code",
   "execution_count": null,
   "metadata": {},
   "outputs": [],
   "source": []
  }
 ],
 "metadata": {
  "kernelspec": {
   "display_name": ".venv",
   "language": "python",
   "name": "python3"
  },
  "language_info": {
   "codemirror_mode": {
    "name": "ipython",
    "version": 3
   },
   "file_extension": ".py",
   "mimetype": "text/x-python",
   "name": "python",
   "nbconvert_exporter": "python",
   "pygments_lexer": "ipython3",
   "version": "3.12.5"
  }
 },
 "nbformat": 4,
 "nbformat_minor": 2
}
