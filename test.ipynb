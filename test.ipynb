{
 "cells": [
  {
   "cell_type": "code",
   "execution_count": 2,
   "metadata": {},
   "outputs": [],
   "source": [
    "from qiskit import QuantumCircuit\n",
    "from qiskit_aer import AerSimulator\n",
    "from qiskit.quantum_info import Statevector\n",
    "import numpy as np\n",
    "import networkx as nx"
   ]
  },
  {
   "cell_type": "code",
   "execution_count": 3,
   "metadata": {},
   "outputs": [],
   "source": [
    "def map_coloring(graph, colors):\n",
    "    valid_colorings = []\n",
    "    for coloring in np.ndindex(*([colors] * len(graph))):\n",
    "        valid = True\n",
    "        for edge in graph.edges():\n",
    "            if coloring[edge[0]] == coloring[edge[1]]:\n",
    "                valid = False\n",
    "                break\n",
    "        if valid:\n",
    "            valid_colorings.append(coloring)\n",
    "    return valid_colorings"
   ]
  },
  {
   "cell_type": "code",
   "execution_count": 14,
   "metadata": {},
   "outputs": [
    {
     "name": "stdout",
     "output_type": "stream",
     "text": [
      "[(0, 1, 2), (0, 2, 1), (1, 0, 2), (1, 2, 0), (2, 0, 1), (2, 1, 0)]\n"
     ]
    }
   ],
   "source": [
    "# Create sample graph\n",
    "G = nx.Graph()\n",
    "G.add_edges_from([(0, 1), (1, 2), (2, 0)])\n",
    "\n",
    "# Calculate valid 3-colorings\n",
    "valid_colorings = map_coloring(G, 3)\n",
    "print(valid_colorings)"
   ]
  },
  {
   "cell_type": "code",
   "execution_count": 15,
   "metadata": {},
   "outputs": [
    {
     "name": "stdout",
     "output_type": "stream",
     "text": [
      "[(0, 1, 1, 2, 0, 0, 1, 2), (0, 1, 1, 2, 2, 0, 0, 1), (0, 1, 1, 2, 2, 0, 0, 2), (0, 1, 1, 2, 2, 0, 1, 2), (0, 2, 2, 1, 0, 0, 2, 1), (0, 2, 2, 1, 1, 0, 0, 1), (0, 2, 2, 1, 1, 0, 0, 2), (0, 2, 2, 1, 1, 0, 2, 1), (1, 0, 0, 2, 1, 1, 0, 2), (1, 0, 0, 2, 2, 1, 0, 2), (1, 0, 0, 2, 2, 1, 1, 0), (1, 0, 0, 2, 2, 1, 1, 2), (1, 2, 2, 0, 0, 1, 1, 0), (1, 2, 2, 0, 0, 1, 1, 2), (1, 2, 2, 0, 0, 1, 2, 0), (1, 2, 2, 0, 1, 1, 2, 0), (2, 0, 0, 1, 1, 2, 0, 1), (2, 0, 0, 1, 1, 2, 2, 0), (2, 0, 0, 1, 1, 2, 2, 1), (2, 0, 0, 1, 2, 2, 0, 1), (2, 1, 1, 0, 0, 2, 1, 0), (2, 1, 1, 0, 0, 2, 2, 0), (2, 1, 1, 0, 0, 2, 2, 1), (2, 1, 1, 0, 2, 2, 1, 0)]\n"
     ]
    }
   ],
   "source": [
    "G_australia = nx.Graph()\n",
    "G_australia.add_edges_from([\n",
    "    (0, 1), (0, 2), (0, 3), (1, 3), (1, 4), (2, 3),\n",
    "    (2, 5), (3, 5), (3, 6), (4, 6), (5, 7), (6, 7)\n",
    "])\n",
    "# Calculate valid 3-colorings\n",
    "valid_colorings = map_coloring(G_australia, 3)\n",
    "print(valid_colorings)"
   ]
  },
  {
   "cell_type": "code",
   "execution_count": 16,
   "metadata": {},
   "outputs": [
    {
     "name": "stdout",
     "output_type": "stream",
     "text": [
      "[(0, 1, 1, 2, 0, 0, 1, 2), (0, 1, 1, 2, 2, 0, 0, 1), (0, 1, 1, 2, 2, 0, 0, 2), (0, 1, 1, 2, 2, 0, 1, 2), (0, 2, 2, 1, 0, 0, 2, 1), (0, 2, 2, 1, 1, 0, 0, 1), (0, 2, 2, 1, 1, 0, 0, 2), (0, 2, 2, 1, 1, 0, 2, 1), (1, 0, 0, 2, 1, 1, 0, 2), (1, 0, 0, 2, 2, 1, 0, 2), (1, 0, 0, 2, 2, 1, 1, 0), (1, 0, 0, 2, 2, 1, 1, 2), (1, 2, 2, 0, 0, 1, 1, 0), (1, 2, 2, 0, 0, 1, 1, 2), (1, 2, 2, 0, 0, 1, 2, 0), (1, 2, 2, 0, 1, 1, 2, 0), (2, 0, 0, 1, 1, 2, 0, 1), (2, 0, 0, 1, 1, 2, 2, 0), (2, 0, 0, 1, 1, 2, 2, 1), (2, 0, 0, 1, 2, 2, 0, 1), (2, 1, 1, 0, 0, 2, 1, 0), (2, 1, 1, 0, 0, 2, 2, 0), (2, 1, 1, 0, 0, 2, 2, 1), (2, 1, 1, 0, 2, 2, 1, 0)]\n"
     ]
    }
   ],
   "source": [
    "G_australia = nx.Graph()\n",
    "G_australia.add_edges_from([\n",
    "    (0, 1), (0, 2), (0, 3), (1, 3), (1, 4), (2, 3),\n",
    "    (2, 5), (3, 5), (3, 6), (4, 6), (5, 7), (6, 7)\n",
    "])\n",
    "# Calculate valid 3-colorings\n",
    "valid_colorings = map_coloring(G_australia, 3)\n",
    "print(valid_colorings)"
   ]
  },
  {
   "cell_type": "code",
   "execution_count": null,
   "metadata": {},
   "outputs": [],
   "source": []
  },
  {
   "cell_type": "code",
   "execution_count": null,
   "metadata": {},
   "outputs": [],
   "source": []
  },
  {
   "cell_type": "code",
   "execution_count": null,
   "metadata": {},
   "outputs": [],
   "source": []
  },
  {
   "cell_type": "code",
   "execution_count": 7,
   "metadata": {},
   "outputs": [],
   "source": [
    "def grover_search_oracle(graph, colors):\n",
    "    num_qubits = len(graph) * 2  # 2 qubits per vertex\n",
    "    qc = QuantumCircuit(num_qubits)\n",
    "\n",
    "    # State preparation\n",
    "    qc.h(range(num_qubits))\n",
    "\n",
    "    # Oracle\n",
    "    for edge in graph.edges():\n",
    "        qc.ccx(2 * edge[0], 2 * edge[1], num_qubits)\n",
    "        qc.x(num_qubits)\n",
    "        qc.ccx(2 * edge[0], 2 * edge[1], num_qubits)\n",
    "        qc.x(num_qubits)\n",
    "\n",
    "    # Diffusion operator\n",
    "    qc.h(range(num_qubits))\n",
    "    qc.x(range(num_qubits))\n",
    "    qc.h(range(num_qubits))\n",
    "    qc.barrier()\n",
    "\n",
    "    # Measurement\n",
    "    qc.measure(range(num_qubits), range(num_qubits))\n",
    "\n",
    "    # Simulation\n",
    "    backend=AerSimulator()\n",
    "    job=backend.run(qc) # Add this line to run the circuit\n",
    "    result=job.result()\n",
    "    counts = result.get_counts()\n",
    "\n",
    "    return counts\n",
    "\n"
   ]
  },
  {
   "cell_type": "code",
   "execution_count": 8,
   "metadata": {},
   "outputs": [],
   "source": [
    "### Approach 2: Modified Search Space\n",
    "\n",
    "def grover_search_modified(graph, colors):\n",
    "    num_qubits = len(graph)  # 1 qubit per vertex (3 colors)\n",
    "    qc = QuantumCircuit(num_qubits)\n",
    "\n",
    "    # State preparation\n",
    "    qc.ry(np.pi/3, range(num_qubits))  # Prepare 3-color state\n",
    "\n",
    "    # Oracle (unchanged)\n",
    "    for edge in graph.edges():\n",
    "        qc.cphase(np.pi, edge[0], edge[1])\n",
    "\n",
    "    # Diffusion operator\n",
    "    qc.ry(np.pi/3, range(num_qubits))\n",
    "    qc.x(range(num_qubits))\n",
    "    qc.ry(np.pi/3, range(num_qubits))\n",
    "    qc.barrier()\n",
    "\n",
    "    # Measurement\n",
    "    qc.measure(range(num_qubits), range(num_qubits))\n",
    "\n",
    "    # Simulation\n",
    "    backend=AerSimulator()\n",
    "    job=backend.run(qc) # Add this line to run the circuit\n",
    "    result=job.result()\n",
    "    counts = result.get_counts()\n",
    "\n",
    "    return counts"
   ]
  },
  {
   "cell_type": "code",
   "execution_count": 13,
   "metadata": {},
   "outputs": [
    {
     "ename": "IndexError",
     "evalue": "tuple index out of range",
     "output_type": "error",
     "traceback": [
      "\u001b[1;31m---------------------------------------------------------------------------\u001b[0m",
      "\u001b[1;31mIndexError\u001b[0m                                Traceback (most recent call last)",
      "Cell \u001b[1;32mIn[13], line 28\u001b[0m\n\u001b[0;32m     26\u001b[0m \u001b[38;5;66;03m# Calculate valid 3-colorings\u001b[39;00m\n\u001b[0;32m     27\u001b[0m valid_colorings_australia \u001b[38;5;241m=\u001b[39m map_coloring(G_australia, \u001b[38;5;241m3\u001b[39m)\n\u001b[1;32m---> 28\u001b[0m valid_colorings_spain \u001b[38;5;241m=\u001b[39m \u001b[43mmap_coloring\u001b[49m\u001b[43m(\u001b[49m\u001b[43mG_spain\u001b[49m\u001b[43m,\u001b[49m\u001b[43m \u001b[49m\u001b[38;5;241;43m3\u001b[39;49m\u001b[43m)\u001b[49m\n\u001b[0;32m     30\u001b[0m \u001b[38;5;66;03m# Run Grover's search\u001b[39;00m\n\u001b[0;32m     31\u001b[0m counts_australia_oracle \u001b[38;5;241m=\u001b[39m grover_search_oracle(G_australia, \u001b[38;5;241m3\u001b[39m)\n",
      "Cell \u001b[1;32mIn[3], line 6\u001b[0m, in \u001b[0;36mmap_coloring\u001b[1;34m(graph, colors)\u001b[0m\n\u001b[0;32m      4\u001b[0m valid \u001b[38;5;241m=\u001b[39m \u001b[38;5;28;01mTrue\u001b[39;00m\n\u001b[0;32m      5\u001b[0m \u001b[38;5;28;01mfor\u001b[39;00m edge \u001b[38;5;129;01min\u001b[39;00m graph\u001b[38;5;241m.\u001b[39medges():\n\u001b[1;32m----> 6\u001b[0m     \u001b[38;5;28;01mif\u001b[39;00m coloring[edge[\u001b[38;5;241m0\u001b[39m]] \u001b[38;5;241m==\u001b[39m \u001b[43mcoloring\u001b[49m\u001b[43m[\u001b[49m\u001b[43medge\u001b[49m\u001b[43m[\u001b[49m\u001b[38;5;241;43m1\u001b[39;49m\u001b[43m]\u001b[49m\u001b[43m]\u001b[49m:\n\u001b[0;32m      7\u001b[0m         valid \u001b[38;5;241m=\u001b[39m \u001b[38;5;28;01mFalse\u001b[39;00m\n\u001b[0;32m      8\u001b[0m         \u001b[38;5;28;01mbreak\u001b[39;00m\n",
      "\u001b[1;31mIndexError\u001b[0m: tuple index out of range"
     ]
    }
   ],
   "source": [
    "# Create graph\n",
    "G_australia = nx.Graph()\n",
    "G_australia.add_edges_from([\n",
    "    (0, 1), (0, 2), (0, 3), (1, 3), (1, 4), (2, 3),\n",
    "    (2, 5), (3, 5), (3, 6), (4, 6), (5, 7), (6, 7)\n",
    "])\n",
    "\n",
    "G_spain = nx.Graph()\n",
    "# Add edges for Spain's 17 autonomous communities\n",
    "G_spain.add_edges_from([\n",
    "    (0, 8), (0, 9), (0, 10), (0, 14),  # Andalusia\n",
    "    (1, 8), (1, 9), (1, 15),  # Aragon\n",
    "    (2, 6), (2, 8), (2, 11),  # Asturias\n",
    "    (4, 6), (4, 15),  # Basque Country\n",
    "    (7, 8),  # Cantabria\n",
    "    (9, 12),  # Castile-La Mancha\n",
    "    (8, 11), (8, 13), (8, 9),  # Castile and León\n",
    "    (10, 16),  # Extremadura\n",
    "    (11, 13),  # Galicia\n",
    "    (12, 15), (12, 16),  # La Rioja\n",
    "    (9, 14), (10, 14),  # Madrid\n",
    "    (0, 14), (14, 16),  # Murcia\n",
    "    (1, 12), (1, 15), (3, 15),  # Navarre\n",
    "    (9, 16), (14, 16)  # Valencia\n",
    "])\n",
    "# Calculate valid 3-colorings\n",
    "valid_colorings_australia = map_coloring(G_australia, 3)\n",
    "valid_colorings_spain = map_coloring(G_spain, 3)\n",
    "\n",
    "# Run Grover's search\n",
    "counts_australia_oracle = grover_search_oracle(G_australia, 3)\n",
    "counts_spain_oracle = grover_search_oracle(G_spain, 3)\n",
    "\n",
    "counts_australia_modified = grover_search_modified(G_australia, 3)\n",
    "counts_spain_modified = grover_search_modified(G_spain, 3)\n",
    "\n",
    "print(\"Valid 3-colorings Australia:\", len(valid_colorings_australia))\n",
    "print(\"Valid 3-colorings Spain:\", len(valid_colorings_spain))\n",
    "\n",
    "print(\"Grover Search Counts (Oracle) Australia:\", counts_australia_oracle)\n",
    "print(\"Grover Search Counts (Modified) Australia:\", counts_australia_modified)\n",
    "\n",
    "print(\"Grover Search Counts (Oracle) Spain:\", counts_spain_oracle)\n",
    "print(\"Grover Search Counts (Modified) Spain:\", counts_spain_modified)"
   ]
  },
  {
   "cell_type": "code",
   "execution_count": null,
   "metadata": {},
   "outputs": [],
   "source": []
  },
  {
   "cell_type": "code",
   "execution_count": null,
   "metadata": {},
   "outputs": [],
   "source": []
  }
 ],
 "metadata": {
  "kernelspec": {
   "display_name": ".venv",
   "language": "python",
   "name": "python3"
  },
  "language_info": {
   "codemirror_mode": {
    "name": "ipython",
    "version": 3
   },
   "file_extension": ".py",
   "mimetype": "text/x-python",
   "name": "python",
   "nbconvert_exporter": "python",
   "pygments_lexer": "ipython3",
   "version": "3.12.5"
  }
 },
 "nbformat": 4,
 "nbformat_minor": 2
}
